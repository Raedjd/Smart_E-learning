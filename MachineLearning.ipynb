{
  "nbformat": 4,
  "nbformat_minor": 0,
  "metadata": {
    "colab": {
      "name": "MachineLearning.ipynb",
      "provenance": [],
      "authorship_tag": "ABX9TyMjO4rM0oWrsll0zn2CMSnK",
      "include_colab_link": true
    },
    "kernelspec": {
      "name": "python3",
      "display_name": "Python 3"
    },
    "language_info": {
      "name": "python"
    }
  },
  "cells": [
    {
      "cell_type": "markdown",
      "metadata": {
        "id": "view-in-github",
        "colab_type": "text"
      },
      "source": [
        "<a href=\"https://colab.research.google.com/github/Raedjd/Smart_E-learning/blob/master/MachineLearning.ipynb\" target=\"_parent\"><img src=\"https://colab.research.google.com/assets/colab-badge.svg\" alt=\"Open In Colab\"/></a>"
      ]
    },
    {
      "cell_type": "code",
      "execution_count": 3,
      "metadata": {
        "colab": {
          "base_uri": "https://localhost:8080/"
        },
        "id": "abEqV8Ci68qF",
        "outputId": "825fd547-45ee-4880-a1ec-0ec5522292f5"
      },
      "outputs": [
        {
          "output_type": "stream",
          "name": "stdout",
          "text": [
            "Collecting scikit-surprise\n",
            "  Downloading scikit-surprise-1.1.1.tar.gz (11.8 MB)\n",
            "\u001b[K     |████████████████████████████████| 11.8 MB 4.1 MB/s \n",
            "\u001b[?25hRequirement already satisfied: joblib>=0.11 in /usr/local/lib/python3.7/dist-packages (from scikit-surprise) (1.1.0)\n",
            "Requirement already satisfied: numpy>=1.11.2 in /usr/local/lib/python3.7/dist-packages (from scikit-surprise) (1.21.6)\n",
            "Requirement already satisfied: scipy>=1.0.0 in /usr/local/lib/python3.7/dist-packages (from scikit-surprise) (1.4.1)\n",
            "Requirement already satisfied: six>=1.10.0 in /usr/local/lib/python3.7/dist-packages (from scikit-surprise) (1.15.0)\n",
            "Building wheels for collected packages: scikit-surprise\n",
            "  Building wheel for scikit-surprise (setup.py) ... \u001b[?25l\u001b[?25hdone\n",
            "  Created wheel for scikit-surprise: filename=scikit_surprise-1.1.1-cp37-cp37m-linux_x86_64.whl size=1630210 sha256=116c53f3d1e1ce2fa3d64ca26222898d2c258fe6a0a9e465a0bf0656142ecb54\n",
            "  Stored in directory: /root/.cache/pip/wheels/76/44/74/b498c42be47b2406bd27994e16c5188e337c657025ab400c1c\n",
            "Successfully built scikit-surprise\n",
            "Installing collected packages: scikit-surprise\n",
            "Successfully installed scikit-surprise-1.1.1\n"
          ]
        }
      ],
      "source": [
        "!pip install scikit-surprise"
      ]
    },
    {
      "cell_type": "code",
      "source": [
        "!pip install colabcode"
      ],
      "metadata": {
        "id": "IGr_axDK7GPc"
      },
      "execution_count": null,
      "outputs": []
    },
    {
      "cell_type": "code",
      "source": [
        "!pip install fastapi"
      ],
      "metadata": {
        "id": "v-7rdVjv7LPa"
      },
      "execution_count": null,
      "outputs": []
    },
    {
      "cell_type": "code",
      "source": [
        "from surprise import Dataset, Reader\n",
        "import pandas as pd\n",
        "from surprise import SVD\n",
        "from surprise import Dataset\n",
        "from surprise import accuracy\n",
        "from surprise.model_selection import train_test_split\n",
        "from surprise import KNNBasic,  KNNWithMeans, KNNBaseline\n",
        "from surprise.model_selection import KFold\n",
        "from surprise import Reader\n",
        "from surprise import NormalPredictor\n",
        "from surprise.model_selection import cross_validate\n",
        "import matplotlib.pyplot as plt\n",
        "import seaborn as sns\n",
        "from surprise.model_selection import GridSearchCV\n",
        "from collections import defaultdict\n",
        "from colabcode import ColabCode\n",
        "from fastapi import FastAPI\n",
        "import json"
      ],
      "metadata": {
        "id": "aO51jPgH7PJH"
      },
      "execution_count": 6,
      "outputs": []
    },
    {
      "cell_type": "code",
      "source": [
        "import pandas as pd\n",
        "\n",
        "data = {'Profils':  ['IT Audit Consultant', 'IT Senior Helpdesk Service Support','Software Development Engineer','DevOps Engineer','Data Engineer','Data Scientist','Data analyst','Infrastructure Engineer','Security Engineer','Technical Lead','IT Audit Consultant', 'IT Senior Helpdesk Service Support','Software Development Engineer','DevOps Engineer','Data Engineer','Data Scientist','Data analyst','Infrastructure Engineer','Security Engineer','Technical Lead'],\n",
        "        'Courses': ['COBIT','Selenium','Jakarta EE','Jenkins','Python','R','Python','Docker','Penetration test','PMP','Penetration test','PMP','Jakarta EE','Jenkins','COBIT','Slenium','R','Python','R','Jenkins'],\n",
        "        'Appreciation':[4,1,3,4,3,5,2,3,3,1,2,5,5,3,1,4,3,1,2,2]\n",
        "        }\n",
        "\n",
        "df = pd.DataFrame (data, columns = ['Profils','Courses','Appreciation'])"
      ],
      "metadata": {
        "id": "U3g6yl4j7Ska"
      },
      "execution_count": 7,
      "outputs": []
    },
    {
      "cell_type": "code",
      "source": [
        "df.groupby('Appreciation').count()['Profils'].plot.bar()"
      ],
      "metadata": {
        "colab": {
          "base_uri": "https://localhost:8080/",
          "height": 294
        },
        "id": "tnGeG2Df7V4i",
        "outputId": "4560305d-fa83-47bc-f77b-6422fbecdb9a"
      },
      "execution_count": 8,
      "outputs": [
        {
          "output_type": "execute_result",
          "data": {
            "text/plain": [
              "<matplotlib.axes._subplots.AxesSubplot at 0x7fb25e1f4450>"
            ]
          },
          "metadata": {},
          "execution_count": 8
        },
        {
          "output_type": "display_data",
          "data": {
            "text/plain": [
              "<Figure size 432x288 with 1 Axes>"
            ],
            "image/png": "[encoded data removed]"
          },
          "metadata": {
            "needs_background": "light"
          }
        }
      ]
    },
    {
      "cell_type": "code",
      "source": [
        "df.head()"
      ],
      "metadata": {
        "colab": {
          "base_uri": "https://localhost:8080/",
          "height": 206
        },
        "id": "L9wU8krH7Zue",
        "outputId": "a9de9adb-c5ae-4d61-94f0-5712dc0fa9fe"
      },
      "execution_count": 9,
      "outputs": [
        {
          "output_type": "execute_result",
          "data": {
            "text/plain": [
              "                              Profils     Courses  Appreciation\n",
              "0                 IT Audit Consultant       COBIT             4\n",
              "1  IT Senior Helpdesk Service Support    Selenium             1\n",
              "2       Software Development Engineer  Jakarta EE             3\n",
              "3                     DevOps Engineer     Jenkins             4\n",
              "4                       Data Engineer      Python             3"
            ],
            "text/html": [
              "\n",
              "  <div id=\"df-4cb43b6f-19c4-4f18-8137-ff8b8aab5b12\">\n",
              "    <div class=\"colab-df-container\">\n",
              "      <div>\n",
              "<style scoped>\n",
              "    .dataframe tbody tr th:only-of-type {\n",
              "        vertical-align: middle;\n",
              "    }\n",
              "\n",
              "    .dataframe tbody tr th {\n",
              "        vertical-align: top;\n",
              "    }\n",
              "\n",
              "    .dataframe thead th {\n",
              "        text-align: right;\n",
              "    }\n",
              "</style>\n",
              "<table border=\"1\" class=\"dataframe\">\n",
              "  <thead>\n",
              "    <tr style=\"text-align: right;\">\n",
              "      <th></th>\n",
              "      <th>Profils</th>\n",
              "      <th>Courses</th>\n",
              "      <th>Appreciation</th>\n",
              "    </tr>\n",
              "  </thead>\n",
              "  <tbody>\n",
              "    <tr>\n",
              "      <th>0</th>\n",
              "      <td>IT Audit Consultant</td>\n",
              "      <td>COBIT</td>\n",
              "      <td>4</td>\n",
              "    </tr>\n",
              "    <tr>\n",
              "      <th>1</th>\n",
              "      <td>IT Senior Helpdesk Service Support</td>\n",
              "      <td>Selenium</td>\n",
              "      <td>1</td>\n",
              "    </tr>\n",
              "    <tr>\n",
              "      <th>2</th>\n",
              "      <td>Software Development Engineer</td>\n",
              "      <td>Jakarta EE</td>\n",
              "      <td>3</td>\n",
              "    </tr>\n",
              "    <tr>\n",
              "      <th>3</th>\n",
              "      <td>DevOps Engineer</td>\n",
              "      <td>Jenkins</td>\n",
              "      <td>4</td>\n",
              "    </tr>\n",
              "    <tr>\n",
              "      <th>4</th>\n",
              "      <td>Data Engineer</td>\n",
              "      <td>Python</td>\n",
              "      <td>3</td>\n",
              "    </tr>\n",
              "  </tbody>\n",
              "</table>\n",
              "</div>\n",
              "      <button class=\"colab-df-convert\" onclick=\"convertToInteractive('df-4cb43b6f-19c4-4f18-8137-ff8b8aab5b12')\"\n",
              "              title=\"Convert this dataframe to an interactive table.\"\n",
              "              style=\"display:none;\">\n",
              "        \n",
              "  <svg xmlns=\"http://www.w3.org/2000/svg\" height=\"24px\"viewBox=\"0 0 24 24\"\n",
              "       width=\"24px\">\n",
              "    <path d=\"M0 0h24v24H0V0z\" fill=\"none\"/>\n",
              "    <path d=\"M18.56 5.44l.94 2.06.94-2.06 2.06-.94-2.06-.94-.94-2.06-.94 2.06-2.06.94zm-11 1L8.5 8.5l.94-2.06 2.06-.94-2.06-.94L8.5 2.5l-.94 2.06-2.06.94zm10 10l.94 2.06.94-2.06 2.06-.94-2.06-.94-.94-2.06-.94 2.06-2.06.94z\"/><path d=\"M17.41 7.96l-1.37-1.37c-.4-.4-.92-.59-1.43-.59-.52 0-1.04.2-1.43.59L10.3 9.45l-7.72 7.72c-.78.78-.78 2.05 0 2.83L4 21.41c.39.39.9.59 1.41.59.51 0 1.02-.2 1.41-.59l7.78-7.78 2.81-2.81c.8-.78.8-2.07 0-2.86zM5.41 20L4 18.59l7.72-7.72 1.47 1.35L5.41 20z\"/>\n",
              "  </svg>\n",
              "      </button>\n",
              "      \n",
              "  <style>\n",
              "    .colab-df-container {\n",
              "      display:flex;\n",
              "      flex-wrap:wrap;\n",
              "      gap: 12px;\n",
              "    }\n",
              "\n",
              "    .colab-df-convert {\n",
              "      background-color: #E8F0FE;\n",
              "      border: none;\n",
              "      border-radius: 50%;\n",
              "      cursor: pointer;\n",
              "      display: none;\n",
              "      fill: #1967D2;\n",
              "      height: 32px;\n",
              "      padding: 0 0 0 0;\n",
              "      width: 32px;\n",
              "    }\n",
              "\n",
              "    .colab-df-convert:hover {\n",
              "      background-color: #E2EBFA;\n",
              "      box-shadow: 0px 1px 2px rgba(60, 64, 67, 0.3), 0px 1px 3px 1px rgba(60, 64, 67, 0.15);\n",
              "      fill: #174EA6;\n",
              "    }\n",
              "\n",
              "    [theme=dark] .colab-df-convert {\n",
              "      background-color: #3B4455;\n",
              "      fill: #D2E3FC;\n",
              "    }\n",
              "\n",
              "    [theme=dark] .colab-df-convert:hover {\n",
              "      background-color: #434B5C;\n",
              "      box-shadow: 0px 1px 3px 1px rgba(0, 0, 0, 0.15);\n",
              "      filter: drop-shadow(0px 1px 2px rgba(0, 0, 0, 0.3));\n",
              "      fill: #FFFFFF;\n",
              "    }\n",
              "  </style>\n",
              "\n",
              "      <script>\n",
              "        const buttonEl =\n",
              "          document.querySelector('#df-4cb43b6f-19c4-4f18-8137-ff8b8aab5b12 button.colab-df-convert');\n",
              "        buttonEl.style.display =\n",
              "          google.colab.kernel.accessAllowed ? 'block' : 'none';\n",
              "\n",
              "        async function convertToInteractive(key) {\n",
              "          const element = document.querySelector('#df-4cb43b6f-19c4-4f18-8137-ff8b8aab5b12');\n",
              "          const dataTable =\n",
              "            await google.colab.kernel.invokeFunction('convertToInteractive',\n",
              "                                                     [key], {});\n",
              "          if (!dataTable) return;\n",
              "\n",
              "          const docLinkHtml = 'Like what you see? Visit the ' +\n",
              "            '<a target=\"_blank\" href=https://colab.research.google.com/notebooks/data_table.ipynb>data table notebook</a>'\n",
              "            + ' to learn more about interactive tables.';\n",
              "          element.innerHTML = '';\n",
              "          dataTable['output_type'] = 'display_data';\n",
              "          await google.colab.output.renderOutput(dataTable, element);\n",
              "          const docLink = document.createElement('div');\n",
              "          docLink.innerHTML = docLinkHtml;\n",
              "          element.appendChild(docLink);\n",
              "        }\n",
              "      </script>\n",
              "    </div>\n",
              "  </div>\n",
              "  "
            ]
          },
          "metadata": {},
          "execution_count": 9
        }
      ]
    },
    {
      "cell_type": "code",
      "source": [
        "# A reader is still needed but only the rating_scale param is requiered.\n",
        "reader = Reader(rating_scale=(1, 5))"
      ],
      "metadata": {
        "id": "tLA6hPfX7aWI"
      },
      "execution_count": 10,
      "outputs": []
    },
    {
      "cell_type": "code",
      "source": [
        "data = Dataset.load_from_df(df,reader)"
      ],
      "metadata": {
        "id": "gpdMT9OD7cpr"
      },
      "execution_count": 11,
      "outputs": []
    },
    {
      "cell_type": "code",
      "source": [
        "kf = KFold(n_splits=3)\n",
        "algo = KNNBasic()\n",
        "best_algo = None\n",
        "best_rmse = 1000.0\n",
        "best_pred = None\n",
        "for trainset, testset in kf.split(data):\n",
        "    # train and test algorithm.\n",
        "    algo.fit(trainset)\n",
        "    predictions = algo.test(testset)\n",
        "    # Compute and print Root Mean Squared Error\n",
        "    rmse = accuracy.rmse(predictions, verbose=True)\n",
        "    if rmse < best_rmse:\n",
        "        best_algo = algo\n",
        "        best_pred = predictions"
      ],
      "metadata": {
        "colab": {
          "base_uri": "https://localhost:8080/"
        },
        "id": "dSZUhtAS7gAT",
        "outputId": "819924ff-8b89-4135-c05e-884d0cfddb4e"
      },
      "execution_count": 12,
      "outputs": [
        {
          "output_type": "stream",
          "name": "stdout",
          "text": [
            "Computing the msd similarity matrix...\n",
            "Done computing similarity matrix.\n",
            "RMSE: 1.4688\n",
            "Computing the msd similarity matrix...\n",
            "Done computing similarity matrix.\n",
            "RMSE: 1.4264\n",
            "Computing the msd similarity matrix...\n",
            "Done computing similarity matrix.\n",
            "RMSE: 1.4178\n"
          ]
        }
      ]
    },
    {
      "cell_type": "code",
      "source": [
        "best_pred"
      ],
      "metadata": {
        "colab": {
          "base_uri": "https://localhost:8080/"
        },
        "id": "-N54IIYo7kyq",
        "outputId": "12e4f45b-b460-43ca-ed4c-1df7802f3e9c"
      },
      "execution_count": 13,
      "outputs": [
        {
          "output_type": "execute_result",
          "data": {
            "text/plain": [
              "[Prediction(uid='IT Audit Consultant', iid='COBIT', r_ui=4.0, est=2.7142857142857144, details={'was_impossible': True, 'reason': 'User and/or item is unknown.'}),\n",
              " Prediction(uid='Data Engineer', iid='COBIT', r_ui=1.0, est=2.7142857142857144, details={'was_impossible': True, 'reason': 'User and/or item is unknown.'}),\n",
              " Prediction(uid='Data Scientist', iid='Slenium', r_ui=4.0, est=2.7142857142857144, details={'was_impossible': True, 'reason': 'User and/or item is unknown.'}),\n",
              " Prediction(uid='Data analyst', iid='R', r_ui=3.0, est=2.7142857142857144, details={'was_impossible': True, 'reason': 'User and/or item is unknown.'}),\n",
              " Prediction(uid='Data analyst', iid='Python', r_ui=2.0, est=2.7142857142857144, details={'was_impossible': True, 'reason': 'User and/or item is unknown.'}),\n",
              " Prediction(uid='Data Scientist', iid='R', r_ui=5.0, est=2.7142857142857144, details={'was_impossible': True, 'reason': 'User and/or item is unknown.'})]"
            ]
          },
          "metadata": {},
          "execution_count": 13
        }
      ]
    },
    {
      "cell_type": "code",
      "source": [
        "def get_top_n(predictions, n=10):\n",
        "    '''Return the top-N recommendation for each user from a set of predictions.\n",
        "\n",
        "    Args:\n",
        "        predictions(list of Prediction objects): The list of predictions, as\n",
        "            returned by the test method of an algorithm.\n",
        "        n(int): The number of recommendation to output for each user. Default\n",
        "            is 10.\n",
        "\n",
        "    Returns:\n",
        "    A dict where keys are user (raw) ids and values are lists of tuples:\n",
        "        [(raw item id, rating estimation), ...] of size n.\n",
        "    '''\n",
        "\n",
        "    # First map the predictions to each user.\n",
        "    top_n = defaultdict(list)\n",
        "    for uid, iid, true_r, est, _ in predictions:\n",
        "        top_n[uid].append((iid, est))\n",
        "\n",
        "    # Then sort the predictions for each user and retrieve the k highest ones.\n",
        "    for uid, user_ratings in top_n.items():\n",
        "        user_ratings.sort(key=lambda x: x[1], reverse=True)\n",
        "        top_n[uid] = user_ratings[:n]\n",
        "\n",
        "    return top_n"
      ],
      "metadata": {
        "id": "F2JC5U_M7lXp"
      },
      "execution_count": 14,
      "outputs": []
    },
    {
      "cell_type": "code",
      "source": [
        "# Than predict ratings for all pairs (u, i) that are NOT in the training set.\n",
        "testset = trainset.build_anti_testset()\n",
        "predictions = algo.test(testset)\n",
        "\n",
        "top_n = get_top_n(predictions, n=10)"
      ],
      "metadata": {
        "id": "E8NC_TJY7oz7"
      },
      "execution_count": 15,
      "outputs": []
    },
    {
      "cell_type": "code",
      "source": [
        "top_n"
      ],
      "metadata": {
        "colab": {
          "base_uri": "https://localhost:8080/"
        },
        "id": "YAaLY00b7sra",
        "outputId": "1dac787c-d146-47b3-d3b1-b8ae56135b4b"
      },
      "execution_count": 16,
      "outputs": [
        {
          "output_type": "execute_result",
          "data": {
            "text/plain": [
              "defaultdict(list,\n",
              "            {'Data Engineer': [('Docker', 3.0000000000000004),\n",
              "              ('Jenkins', 2.7142857142857144),\n",
              "              ('Jakarta EE', 2.7142857142857144),\n",
              "              ('R', 2.7142857142857144),\n",
              "              ('Selenium', 2.7142857142857144),\n",
              "              ('PMP', 2.7142857142857144),\n",
              "              ('Penetration test', 2.7142857142857144)],\n",
              "             'DevOps Engineer': [('Jakarta EE', 2.7142857142857144),\n",
              "              ('R', 2.7142857142857144),\n",
              "              ('Docker', 2.7142857142857144),\n",
              "              ('Selenium', 2.7142857142857144),\n",
              "              ('Python', 2.7142857142857144),\n",
              "              ('Penetration test', 2.7142857142857144),\n",
              "              ('PMP', 1)],\n",
              "             'IT Audit Consultant': [('Jenkins', 2.7142857142857144),\n",
              "              ('Jakarta EE', 2.7142857142857144),\n",
              "              ('Docker', 2.7142857142857144),\n",
              "              ('Selenium', 2.7142857142857144),\n",
              "              ('Python', 2.7142857142857144),\n",
              "              ('PMP', 2.7142857142857144),\n",
              "              ('R', 2.0)],\n",
              "             'IT Senior Helpdesk Service Support': [('Jakarta EE',\n",
              "               2.7142857142857144),\n",
              "              ('R', 2.7142857142857144),\n",
              "              ('Docker', 2.7142857142857144),\n",
              "              ('Python', 2.7142857142857144),\n",
              "              ('Penetration test', 2.7142857142857144),\n",
              "              ('Jenkins', 2.0)],\n",
              "             'Infrastructure Engineer': [('Jenkins', 2.7142857142857144),\n",
              "              ('Jakarta EE', 2.7142857142857144),\n",
              "              ('R', 2.7142857142857144),\n",
              "              ('Selenium', 2.7142857142857144),\n",
              "              ('PMP', 2.7142857142857144),\n",
              "              ('Penetration test', 2.7142857142857144)],\n",
              "             'Security Engineer': [('Jenkins', 2.7142857142857144),\n",
              "              ('Jakarta EE', 2.7142857142857144),\n",
              "              ('Docker', 2.7142857142857144),\n",
              "              ('Selenium', 2.7142857142857144),\n",
              "              ('Python', 2.7142857142857144),\n",
              "              ('PMP', 2.7142857142857144)],\n",
              "             'Software Development Engineer': [('Jenkins', 2.7142857142857144),\n",
              "              ('R', 2.7142857142857144),\n",
              "              ('Docker', 2.7142857142857144),\n",
              "              ('Selenium', 2.7142857142857144),\n",
              "              ('Python', 2.7142857142857144),\n",
              "              ('PMP', 2.7142857142857144),\n",
              "              ('Penetration test', 2.7142857142857144)],\n",
              "             'Technical Lead': [('Jakarta EE', 2.7142857142857144),\n",
              "              ('R', 2.7142857142857144),\n",
              "              ('Docker', 2.7142857142857144),\n",
              "              ('Python', 2.7142857142857144),\n",
              "              ('Penetration test', 2.7142857142857144),\n",
              "              ('Selenium', 1)]})"
            ]
          },
          "metadata": {},
          "execution_count": 16
        }
      ]
    },
    {
      "cell_type": "code",
      "source": [
        "cc = ColabCode(port=3000, code=False)"
      ],
      "metadata": {
        "id": "8X5tyCIY7vEe"
      },
      "execution_count": 21,
      "outputs": []
    },
    {
      "cell_type": "code",
      "source": [
        "app = FastAPI()\n",
        "\n",
        "@app.get(\"/\")\n",
        "async def read_root():\n",
        "  return {json.dumps(top_n)}"
      ],
      "metadata": {
        "id": "ZlQA9LLx7vqy"
      },
      "execution_count": 26,
      "outputs": []
    },
    {
      "cell_type": "code",
      "source": [
        "cc.run_app(app=app)"
      ],
      "metadata": {
        "colab": {
          "base_uri": "https://localhost:8080/"
        },
        "id": "PjsvYiED7yId",
        "outputId": "8002f54a-d251-4c61-ef70-4505bf55b618"
      },
      "execution_count": null,
      "outputs": [
        {
          "output_type": "stream",
          "name": "stdout",
          "text": [
            "Public URL: NgrokTunnel: \"https://0c02-104-199-205-9.ngrok.io\" -> \"http://localhost:3000\"\n"
          ]
        },
        {
          "output_type": "stream",
          "name": "stderr",
          "text": [
            "INFO:     Started server process [58]\n",
            "INFO:     Waiting for application startup.\n",
            "INFO:     Application startup complete.\n",
            "INFO:     Uvicorn running on http://127.0.0.1:3000 (Press CTRL+C to quit)\n"
          ]
        }
      ]
    }
  ]
}